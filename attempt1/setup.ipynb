{
 "cells": [
  {
   "cell_type": "code",
   "execution_count": null,
   "id": "37ac7c13-bc04-49d6-aaa9-f05f24fd754c",
   "metadata": {},
   "outputs": [],
   "source": [
    "!pip install kaggle\n",
    "!mkdir ~/.kaggle -p\n",
    "!cp kaggle.json ~/.kaggle/\n",
    "!chmod 600 ~/.kaggle/kaggle.json\n",
    "!~/.local/bin/kaggle datasets download -d jutrera/stanford-car-dataset-by-classes-folder\n",
    "!unzip stanford-car-dataset-by-classes-folder.zip"
   ]
  },
  {
   "cell_type": "code",
   "execution_count": null,
   "id": "8599bab5-44e9-4c64-9d35-97389d979db3",
   "metadata": {},
   "outputs": [],
   "source": [
    "import os, shutil\n",
    "\n",
    "def partition_dirs(path):\n",
    "    directories = os.listdir(path)\n",
    "\n",
    "    for directory in directories:\n",
    "        full_dir = path + f\"/{directory}\"\n",
    "        manufacturer_name = directory.split(\" \")[0]\n",
    "        print(manufacturer_name)\n",
    "\n",
    "        files = os.listdir(full_dir)\n",
    "        for file in files:\n",
    "            shutil.copy(full_dir + f\"/{file}\", f\"./data/{manufacturer_name}\")\n",
    "\n",
    "\n",
    "f = open(\"names.csv\")\n",
    "names = f.read().split(\"\\n\")\n",
    "\n",
    "manufacturers = set()\n",
    "\n",
    "for name in names:\n",
    "    if name != \"\":\n",
    "        manufacturers.add(name.split(\" \")[0])\n",
    "\n",
    "\n",
    "for manufacturer in manufacturers:\n",
    "    os.makedirs(f\"./data/{manufacturer}\", exist_ok=True)\n",
    "\n",
    "partition_dirs(\"./car_data/car_data/train\")\n",
    "partition_dirs(\"./car_data/car_data/test\")"
   ]
  }
 ],
 "metadata": {
  "environment": {
   "kernel": "python3",
   "name": "tf2-gpu.2-6.m82",
   "type": "gcloud",
   "uri": "gcr.io/deeplearning-platform-release/tf2-gpu.2-6:m82"
  },
  "kernelspec": {
   "display_name": "Python 3",
   "language": "python",
   "name": "python3"
  },
  "language_info": {
   "codemirror_mode": {
    "name": "ipython",
    "version": 3
   },
   "file_extension": ".py",
   "mimetype": "text/x-python",
   "name": "python",
   "nbconvert_exporter": "python",
   "pygments_lexer": "ipython3",
   "version": "3.7.10"
  }
 },
 "nbformat": 4,
 "nbformat_minor": 5
}
